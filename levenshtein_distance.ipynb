{
 "cells": [
  {
   "cell_type": "code",
   "execution_count": 1,
   "metadata": {},
   "outputs": [],
   "source": [
    "a = ' Levenshtein'\n",
    "b = ' Livinshten'  # we include empty space at start of each word\n",
    "\n",
    "# the Levenshtein distance is 3: in strig b we need to change \"i\" thrice to get it to match string a"
   ]
  },
  {
   "cell_type": "code",
   "execution_count": 9,
   "metadata": {},
   "outputs": [
    {
     "data": {
      "text/plain": [
       "array([[0., 0., 0., 0., 0., 0., 0., 0., 0., 0., 0.],\n",
       "       [0., 0., 0., 0., 0., 0., 0., 0., 0., 0., 0.],\n",
       "       [0., 0., 0., 0., 0., 0., 0., 0., 0., 0., 0.],\n",
       "       [0., 0., 0., 0., 0., 0., 0., 0., 0., 0., 0.],\n",
       "       [0., 0., 0., 0., 0., 0., 0., 0., 0., 0., 0.],\n",
       "       [0., 0., 0., 0., 0., 0., 0., 0., 0., 0., 0.],\n",
       "       [0., 0., 0., 0., 0., 0., 0., 0., 0., 0., 0.],\n",
       "       [0., 0., 0., 0., 0., 0., 0., 0., 0., 0., 0.],\n",
       "       [0., 0., 0., 0., 0., 0., 0., 0., 0., 0., 0.],\n",
       "       [0., 0., 0., 0., 0., 0., 0., 0., 0., 0., 0.],\n",
       "       [0., 0., 0., 0., 0., 0., 0., 0., 0., 0., 0.],\n",
       "       [0., 0., 0., 0., 0., 0., 0., 0., 0., 0., 0.]])"
      ]
     },
     "execution_count": 9,
     "metadata": {},
     "output_type": "execute_result"
    }
   ],
   "source": [
    "import numpy as np\n",
    "# initialize empty zero array\n",
    "lev = np.zeros((len(a), len(b)))\n",
    "lev"
   ]
  },
  {
   "cell_type": "code",
   "execution_count": 12,
   "metadata": {},
   "outputs": [
    {
     "name": "stdout",
     "output_type": "stream",
     "text": [
      "[[ 0.  1.  2.  3.  4.  5.  6.  7.  8.  9. 10.]\n",
      " [ 1.  0.  1.  2.  3.  4.  5.  6.  7.  8.  9.]\n",
      " [ 2.  1.  1.  2.  3.  4.  5.  6.  7.  7.  8.]\n",
      " [ 3.  2.  2.  1.  2.  3.  4.  5.  6.  7.  8.]\n",
      " [ 4.  3.  3.  2.  2.  3.  4.  5.  6.  6.  7.]\n",
      " [ 5.  4.  4.  3.  3.  2.  3.  4.  5.  6.  6.]\n",
      " [ 6.  5.  5.  4.  4.  3.  2.  3.  4.  5.  6.]\n",
      " [ 7.  6.  6.  5.  5.  4.  3.  2.  3.  4.  5.]\n",
      " [ 8.  7.  7.  6.  6.  5.  4.  3.  2.  3.  4.]\n",
      " [ 9.  8.  8.  7.  7.  6.  5.  4.  3.  2.  3.]\n",
      " [10.  9.  8.  8.  7.  7.  6.  5.  4.  3.  3.]\n",
      " [11. 10.  9.  9.  8.  7.  7.  6.  5.  4.  3.]]\n"
     ]
    }
   ],
   "source": [
    "# Wagner- Fischer algo\n",
    "\n",
    "for i in range(len(a)):\n",
    "    for j in range(len(b)):\n",
    "        # if i or j are 0\n",
    "        if min([i, j]) == 0:\n",
    "            # we assign matrix value at position i, j = max(i, j)\n",
    "            lev[i, j] = max([i, j])\n",
    "        else:\n",
    "            # calculate our three possible operations\n",
    "            x = lev[i-1, j]  # deletion\n",
    "            y = lev[i, j-1]  # insertion\n",
    "            z = lev[i-1, j-1]  # substitution\n",
    "            # take the minimum (eg best path/operation)\n",
    "            lev[i, j] = min([x, y, z])\n",
    "            # and if our two current characters don't match, add 1\n",
    "            if a[i] != b[j]:\n",
    "                # if we have a match, don't add 1\n",
    "                lev[i, j] += 1\n",
    "print(lev)"
   ]
  },
  {
   "cell_type": "code",
   "execution_count": 14,
   "metadata": {},
   "outputs": [
    {
     "data": {
      "text/plain": [
       "3.0"
      ]
     },
     "execution_count": 14,
     "metadata": {},
     "output_type": "execute_result"
    }
   ],
   "source": [
    "# The optimal path through our matrix — in position [-1, -1] at the bottom-right we have the Levenshtein distance between our two strings.\n",
    "lev[-1, -1]"
   ]
  }
 ],
 "metadata": {
  "interpreter": {
   "hash": "015cc5a99857e9fcd1ab0927880e4505b72089e0473c7b827a9368dc8509f23c"
  },
  "kernelspec": {
   "display_name": "Python 3.8.5 64-bit ('base': conda)",
   "name": "python3"
  },
  "language_info": {
   "codemirror_mode": {
    "name": "ipython",
    "version": 3
   },
   "file_extension": ".py",
   "mimetype": "text/x-python",
   "name": "python",
   "nbconvert_exporter": "python",
   "pygments_lexer": "ipython3",
   "version": "3.8.5"
  },
  "orig_nbformat": 4
 },
 "nbformat": 4,
 "nbformat_minor": 2
}
