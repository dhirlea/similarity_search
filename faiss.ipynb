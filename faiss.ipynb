{
 "cells": [
  {
   "cell_type": "code",
   "execution_count": 20,
   "metadata": {},
   "outputs": [],
   "source": [
    "import requests\n",
    "import numpy as np\n",
    "from io import StringIO\n",
    "import pandas as pd\n",
    "from sentence_transformers import SentenceTransformer\n",
    "import faiss"
   ]
  },
  {
   "cell_type": "code",
   "execution_count": 2,
   "metadata": {},
   "outputs": [
    {
     "data": {
      "text/html": [
       "<div>\n",
       "<style scoped>\n",
       "    .dataframe tbody tr th:only-of-type {\n",
       "        vertical-align: middle;\n",
       "    }\n",
       "\n",
       "    .dataframe tbody tr th {\n",
       "        vertical-align: top;\n",
       "    }\n",
       "\n",
       "    .dataframe thead th {\n",
       "        text-align: right;\n",
       "    }\n",
       "</style>\n",
       "<table border=\"1\" class=\"dataframe\">\n",
       "  <thead>\n",
       "    <tr style=\"text-align: right;\">\n",
       "      <th></th>\n",
       "      <th>pair_ID</th>\n",
       "      <th>sentence_A</th>\n",
       "      <th>sentence_B</th>\n",
       "      <th>relatedness_score</th>\n",
       "      <th>entailment_judgment</th>\n",
       "    </tr>\n",
       "  </thead>\n",
       "  <tbody>\n",
       "    <tr>\n",
       "      <th>0</th>\n",
       "      <td>1</td>\n",
       "      <td>A group of kids is playing in a yard and an ol...</td>\n",
       "      <td>A group of boys in a yard is playing and a man...</td>\n",
       "      <td>4.5</td>\n",
       "      <td>NEUTRAL</td>\n",
       "    </tr>\n",
       "    <tr>\n",
       "      <th>1</th>\n",
       "      <td>2</td>\n",
       "      <td>A group of children is playing in the house an...</td>\n",
       "      <td>A group of kids is playing in a yard and an ol...</td>\n",
       "      <td>3.2</td>\n",
       "      <td>NEUTRAL</td>\n",
       "    </tr>\n",
       "    <tr>\n",
       "      <th>2</th>\n",
       "      <td>3</td>\n",
       "      <td>The young boys are playing outdoors and the ma...</td>\n",
       "      <td>The kids are playing outdoors near a man with ...</td>\n",
       "      <td>4.7</td>\n",
       "      <td>ENTAILMENT</td>\n",
       "    </tr>\n",
       "    <tr>\n",
       "      <th>3</th>\n",
       "      <td>5</td>\n",
       "      <td>The kids are playing outdoors near a man with ...</td>\n",
       "      <td>A group of kids is playing in a yard and an ol...</td>\n",
       "      <td>3.4</td>\n",
       "      <td>NEUTRAL</td>\n",
       "    </tr>\n",
       "    <tr>\n",
       "      <th>4</th>\n",
       "      <td>9</td>\n",
       "      <td>The young boys are playing outdoors and the ma...</td>\n",
       "      <td>A group of kids is playing in a yard and an ol...</td>\n",
       "      <td>3.7</td>\n",
       "      <td>NEUTRAL</td>\n",
       "    </tr>\n",
       "  </tbody>\n",
       "</table>\n",
       "</div>"
      ],
      "text/plain": [
       "   pair_ID                                         sentence_A  \\\n",
       "0        1  A group of kids is playing in a yard and an ol...   \n",
       "1        2  A group of children is playing in the house an...   \n",
       "2        3  The young boys are playing outdoors and the ma...   \n",
       "3        5  The kids are playing outdoors near a man with ...   \n",
       "4        9  The young boys are playing outdoors and the ma...   \n",
       "\n",
       "                                          sentence_B  relatedness_score  \\\n",
       "0  A group of boys in a yard is playing and a man...                4.5   \n",
       "1  A group of kids is playing in a yard and an ol...                3.2   \n",
       "2  The kids are playing outdoors near a man with ...                4.7   \n",
       "3  A group of kids is playing in a yard and an ol...                3.4   \n",
       "4  A group of kids is playing in a yard and an ol...                3.7   \n",
       "\n",
       "  entailment_judgment  \n",
       "0             NEUTRAL  \n",
       "1             NEUTRAL  \n",
       "2          ENTAILMENT  \n",
       "3             NEUTRAL  \n",
       "4             NEUTRAL  "
      ]
     },
     "execution_count": 2,
     "metadata": {},
     "output_type": "execute_result"
    }
   ],
   "source": [
    "\n",
    "res = requests.get('https://raw.githubusercontent.com/brmson/dataset-sts/master/data/sts/sick2014/SICK_train.txt')\n",
    "# create dataframe\n",
    "data = pd.read_csv(StringIO(res.text), sep='\\t')\n",
    "data.head()"
   ]
  },
  {
   "cell_type": "code",
   "execution_count": 3,
   "metadata": {},
   "outputs": [
    {
     "data": {
      "text/plain": [
       "['A group of kids is playing in a yard and an old man is standing in the background',\n",
       " 'A group of children is playing in the house and there is no man standing in the background',\n",
       " 'The young boys are playing outdoors and the man is smiling nearby',\n",
       " 'The kids are playing outdoors near a man with a smile',\n",
       " 'The young boys are playing outdoors and the man is smiling nearby']"
      ]
     },
     "execution_count": 3,
     "metadata": {},
     "output_type": "execute_result"
    }
   ],
   "source": [
    "\n",
    "# we take all samples from both sentence A and B\n",
    "sentences = data['sentence_A'].tolist()\n",
    "sentences[:5]"
   ]
  },
  {
   "cell_type": "code",
   "execution_count": 4,
   "metadata": {},
   "outputs": [
    {
     "data": {
      "text/plain": [
       "4802"
      ]
     },
     "execution_count": 4,
     "metadata": {},
     "output_type": "execute_result"
    }
   ],
   "source": [
    "\n",
    "# we take all samples from both sentence A and B\n",
    "sentences = data['sentence_A'].tolist()\n",
    "sentence_b = data['sentence_B'].tolist()\n",
    "sentences.extend(sentence_b)  # merge them\n",
    "len(set(sentences))  # together we have ~4.5K unique sentences"
   ]
  },
  {
   "cell_type": "code",
   "execution_count": 5,
   "metadata": {},
   "outputs": [],
   "source": [
    "urls = [\n",
    "    'https://raw.githubusercontent.com/brmson/dataset-sts/master/data/sts/semeval-sts/2012/MSRpar.train.tsv',\n",
    "    'https://raw.githubusercontent.com/brmson/dataset-sts/master/data/sts/semeval-sts/2012/MSRpar.test.tsv',\n",
    "    'https://raw.githubusercontent.com/brmson/dataset-sts/master/data/sts/semeval-sts/2012/OnWN.test.tsv',\n",
    "    'https://raw.githubusercontent.com/brmson/dataset-sts/master/data/sts/semeval-sts/2013/OnWN.test.tsv',\n",
    "    'https://raw.githubusercontent.com/brmson/dataset-sts/master/data/sts/semeval-sts/2014/OnWN.test.tsv',\n",
    "    'https://raw.githubusercontent.com/brmson/dataset-sts/master/data/sts/semeval-sts/2014/images.test.tsv',\n",
    "    'https://raw.githubusercontent.com/brmson/dataset-sts/master/data/sts/semeval-sts/2015/images.test.tsv'\n",
    "]"
   ]
  },
  {
   "cell_type": "code",
   "execution_count": 6,
   "metadata": {},
   "outputs": [
    {
     "name": "stderr",
     "output_type": "stream",
     "text": [
      "b'Skipping line 191: expected 3 fields, saw 4\\nSkipping line 206: expected 3 fields, saw 4\\nSkipping line 295: expected 3 fields, saw 4\\nSkipping line 695: expected 3 fields, saw 4\\nSkipping line 699: expected 3 fields, saw 4\\n'\n",
      "b'Skipping line 104: expected 3 fields, saw 4\\nSkipping line 181: expected 3 fields, saw 4\\nSkipping line 317: expected 3 fields, saw 4\\nSkipping line 412: expected 3 fields, saw 5\\nSkipping line 508: expected 3 fields, saw 4\\n'\n"
     ]
    }
   ],
   "source": [
    "# each of these dataset have the same structure, so we loop through each creating our sentences data\n",
    "for url in urls:\n",
    "    res = requests.get(url)\n",
    "    # extract to dataframe\n",
    "    data = pd.read_csv(StringIO(res.text), sep='\\t', header=None, error_bad_lines=False)\n",
    "    # add to columns 1 and 2 to sentences list\n",
    "    sentences.extend(data[1].tolist())\n",
    "    sentences.extend(data[2].tolist())"
   ]
  },
  {
   "cell_type": "code",
   "execution_count": 7,
   "metadata": {},
   "outputs": [
    {
     "data": {
      "text/plain": [
       "14505"
      ]
     },
     "execution_count": 7,
     "metadata": {},
     "output_type": "execute_result"
    }
   ],
   "source": [
    "len(set(sentences))"
   ]
  },
  {
   "cell_type": "code",
   "execution_count": 9,
   "metadata": {},
   "outputs": [],
   "source": [
    "\n",
    "# remove duplicates and NaN\n",
    "sentences = [word for word in list(set(sentences)) if type(word) is str]"
   ]
  },
  {
   "cell_type": "code",
   "execution_count": 10,
   "metadata": {},
   "outputs": [
    {
     "data": {
      "text/plain": [
       "(14504, 768)"
      ]
     },
     "execution_count": 10,
     "metadata": {},
     "output_type": "execute_result"
    }
   ],
   "source": [
    "\n",
    "# initialize sentence transformer model\n",
    "model = SentenceTransformer('bert-base-nli-mean-tokens')\n",
    "# create sentence embeddings\n",
    "sentence_embeddings = model.encode(sentences)\n",
    "sentence_embeddings.shape"
   ]
  },
  {
   "cell_type": "code",
   "execution_count": 11,
   "metadata": {},
   "outputs": [
    {
     "data": {
      "text/plain": [
       "768"
      ]
     },
     "execution_count": 11,
     "metadata": {},
     "output_type": "execute_result"
    }
   ],
   "source": [
    "d = sentence_embeddings.shape[1]\n",
    "d"
   ]
  },
  {
   "cell_type": "code",
   "execution_count": 12,
   "metadata": {},
   "outputs": [],
   "source": [
    "# IndexFlatL2 measures the L2 (or Euclidean) distance between all given points between our query vector, and the vectors loaded into the index\n",
    "index = faiss.IndexFlatL2(d)"
   ]
  },
  {
   "cell_type": "code",
   "execution_count": 13,
   "metadata": {},
   "outputs": [
    {
     "data": {
      "text/plain": [
       "True"
      ]
     },
     "execution_count": 13,
     "metadata": {},
     "output_type": "execute_result"
    }
   ],
   "source": [
    "\n",
    "index.is_trained"
   ]
  },
  {
   "cell_type": "code",
   "execution_count": 14,
   "metadata": {},
   "outputs": [
    {
     "data": {
      "text/plain": [
       "14504"
      ]
     },
     "execution_count": 14,
     "metadata": {},
     "output_type": "execute_result"
    }
   ],
   "source": [
    "index.add(sentence_embeddings)\n",
    "index.ntotal"
   ]
  },
  {
   "cell_type": "code",
   "execution_count": 15,
   "metadata": {},
   "outputs": [],
   "source": [
    "# Then search given a query xq and number of nearest neigbors to return k.\n",
    "\n",
    "k = 4\n",
    "xq = model.encode([\"Someone sprints with a football\"])"
   ]
  },
  {
   "cell_type": "code",
   "execution_count": 16,
   "metadata": {},
   "outputs": [
    {
     "name": "stdout",
     "output_type": "stream",
     "text": [
      "[[10784  6858  1343  2809]]\n",
      "Wall time: 23 ms\n"
     ]
    }
   ],
   "source": [
    "%%time\n",
    "D, I = index.search(xq, k)  # search\n",
    "print(I)"
   ]
  },
  {
   "cell_type": "code",
   "execution_count": 18,
   "metadata": {},
   "outputs": [
    {
     "name": "stdout",
     "output_type": "stream",
     "text": [
      "A group of football players is running in the field\n",
      "A group of people playing football is running in the field\n",
      "Two groups of people are playing football\n",
      "A person playing football is running past an official carrying a football\n"
     ]
    }
   ],
   "source": [
    "for i in I[0]:\n",
    "    print(sentences[i])"
   ]
  },
  {
   "cell_type": "code",
   "execution_count": 21,
   "metadata": {},
   "outputs": [],
   "source": [
    "# Now, if we’d rather extract the numerical vectors from Faiss, we can do that too.\n",
    "# we have 4 vectors to return (k) - so we initialize a zero array to hold them\n",
    "vecs = np.zeros((k, d))\n",
    "# then iterate through each ID from I and add the reconstructed vector to our zero-array\n",
    "for i, val in enumerate(I[0].tolist()):\n",
    "    vecs[i, :] = index.reconstruct(val)"
   ]
  },
  {
   "cell_type": "code",
   "execution_count": 22,
   "metadata": {},
   "outputs": [
    {
     "data": {
      "text/plain": [
       "(4, 768)"
      ]
     },
     "execution_count": 22,
     "metadata": {},
     "output_type": "execute_result"
    }
   ],
   "source": [
    "vecs.shape"
   ]
  },
  {
   "cell_type": "code",
   "execution_count": 23,
   "metadata": {},
   "outputs": [],
   "source": [
    "# So, we are reducing the scope of our search, producing an approximate answer, rather than exact (as produced through exhaustive search).\n",
    "nlist = 50  # how many cells\n",
    "quantizer = faiss.IndexFlatL2(d)\n",
    "index = faiss.IndexIVFFlat(quantizer, d, nlist)"
   ]
  },
  {
   "cell_type": "code",
   "execution_count": 24,
   "metadata": {},
   "outputs": [
    {
     "data": {
      "text/plain": [
       "False"
      ]
     },
     "execution_count": 24,
     "metadata": {},
     "output_type": "execute_result"
    }
   ],
   "source": [
    "index.is_trained"
   ]
  },
  {
   "cell_type": "code",
   "execution_count": 25,
   "metadata": {},
   "outputs": [
    {
     "data": {
      "text/plain": [
       "True"
      ]
     },
     "execution_count": 25,
     "metadata": {},
     "output_type": "execute_result"
    }
   ],
   "source": [
    "index.train(sentence_embeddings)\n",
    "index.is_trained  # check if index is now trained"
   ]
  },
  {
   "cell_type": "code",
   "execution_count": 26,
   "metadata": {},
   "outputs": [
    {
     "data": {
      "text/plain": [
       "14504"
      ]
     },
     "execution_count": 26,
     "metadata": {},
     "output_type": "execute_result"
    }
   ],
   "source": [
    "index.add(sentence_embeddings)\n",
    "index.ntotal  # number of embeddings indexed"
   ]
  },
  {
   "cell_type": "code",
   "execution_count": 27,
   "metadata": {},
   "outputs": [
    {
     "name": "stdout",
     "output_type": "stream",
     "text": [
      "[[10784  6858  1343  2809]]\n",
      "Wall time: 11 ms\n"
     ]
    }
   ],
   "source": [
    "%%time\n",
    "D, I = index.search(xq, k)  # search\n",
    "print(I)"
   ]
  },
  {
   "cell_type": "code",
   "execution_count": 29,
   "metadata": {},
   "outputs": [
    {
     "name": "stdout",
     "output_type": "stream",
     "text": [
      "A group of football players is running in the field\n",
      "A group of people playing football is running in the field\n",
      "Two groups of people are playing football\n",
      "A person playing football is running past an official carrying a football\n"
     ]
    }
   ],
   "source": [
    "for i in I[0]:\n",
    "    print(sentences[i])"
   ]
  },
  {
   "cell_type": "code",
   "execution_count": 30,
   "metadata": {},
   "outputs": [],
   "source": [
    "index.nprobe = 10"
   ]
  },
  {
   "cell_type": "code",
   "execution_count": 31,
   "metadata": {},
   "outputs": [],
   "source": [
    "\n",
    "index.make_direct_map()"
   ]
  },
  {
   "cell_type": "code",
   "execution_count": 32,
   "metadata": {},
   "outputs": [
    {
     "data": {
      "text/plain": [
       "array([ 1.62704606e-02,  2.23259032e-01, -1.50373921e-01, -3.07472467e-01,\n",
       "       -2.71224350e-01, -1.05931818e-01, -6.46094307e-02,  4.73814942e-02,\n",
       "       -7.33490527e-01, -3.76576871e-01, -7.67627954e-01,  1.69028684e-01,\n",
       "        5.31076372e-01,  5.11766613e-01,  1.14415836e+00, -8.56293514e-02,\n",
       "       -6.72400951e-01, -9.66370761e-01,  2.54540890e-02, -2.15598449e-01,\n",
       "       -1.25656593e+00, -8.29821765e-01, -9.82496515e-02, -2.18508437e-01,\n",
       "        5.06102383e-01,  1.05279125e-01,  5.03968894e-01,  6.52429521e-01,\n",
       "       -1.39458716e+00,  6.58474565e-01, -2.15253279e-01, -2.24874988e-01,\n",
       "        8.18183720e-01,  8.46426561e-02, -7.61416674e-01, -2.89282888e-01,\n",
       "       -9.82582867e-02, -7.30461836e-01,  7.85579160e-02, -8.43546569e-01,\n",
       "       -5.92421174e-01,  7.74713695e-01, -1.20920563e+00, -2.27579549e-01,\n",
       "       -1.30733597e+00, -2.30814755e-01, -1.31322527e+00,  1.62906349e-02,\n",
       "       -9.72854614e-01,  1.93081975e-01,  4.74245638e-01,  1.18920863e+00,\n",
       "       -1.96741295e+00, -7.00611353e-01, -2.96386987e-01,  6.05336845e-01,\n",
       "        6.24074280e-01, -7.03403950e-01, -8.67542267e-01,  1.76731765e-01,\n",
       "       -1.91705301e-01, -2.95199826e-02,  2.26235583e-01, -1.66954532e-01,\n",
       "       -8.04024994e-01, -4.59189147e-01,  6.96755648e-01, -2.49281779e-01,\n",
       "       -1.01478672e+00, -9.21745062e-01, -3.38426232e-01, -3.92967552e-01,\n",
       "       -8.37348521e-01, -1.14792012e-01,  4.60496783e-01, -1.45211220e+00,\n",
       "        6.03104651e-01,  3.86962891e-01, -4.06123884e-02,  4.53176722e-03,\n",
       "        2.41178319e-01,  5.39626479e-02,  7.50644729e-02,  1.05115855e+00,\n",
       "        1.23839736e-01, -7.12811291e-01,  1.17229067e-01,  5.22382021e-01,\n",
       "       -4.58121039e-02,  2.68271208e-01,  8.59853923e-01, -3.56699556e-01,\n",
       "       -6.46670580e-01, -5.43579757e-01, -4.31048572e-02,  9.51392114e-01,\n",
       "       -1.56057701e-01, -4.96253401e-01, -1.11401938e-01,  1.56101182e-01,\n",
       "       -5.59091330e-01,  2.05617905e-01, -9.13888633e-01,  2.29094610e-01,\n",
       "       -2.59629875e-01, -5.16760588e-01, -1.90651879e-01,  4.40826982e-01,\n",
       "        1.82483494e-01,  1.50934100e-01, -4.73543912e-01,  2.30040308e-02,\n",
       "        2.03314587e-01, -7.18838871e-01, -4.94162649e-01,  5.23507968e-03,\n",
       "        9.85061824e-01,  9.80089605e-01,  1.33965537e-01,  8.17295611e-01,\n",
       "        7.85338357e-02, -1.06648810e-01,  2.09703863e-01, -3.44749182e-01,\n",
       "       -5.59088290e-01, -5.68208516e-01,  5.96373141e-01,  7.73333684e-02,\n",
       "       -1.43064463e+00, -1.65213361e-01, -2.24184826e-01,  2.02750489e-01,\n",
       "       -6.38550520e-01, -1.82022795e-01,  3.03215417e-03,  2.06834137e-01,\n",
       "        2.33148243e-02,  1.17295384e-01, -5.02703190e-01, -3.14197749e-01,\n",
       "       -6.51245937e-03, -2.69128010e-03, -5.02492376e-02,  6.07862771e-01,\n",
       "       -1.86278388e-01, -8.42603266e-01,  1.18420887e+00,  5.75079143e-01,\n",
       "       -5.14155209e-01,  7.75887445e-02, -1.59803733e-01,  4.00405407e-01,\n",
       "       -8.33698511e-01,  1.10180616e+00, -6.73589528e-01,  1.89718711e+00,\n",
       "        9.37205851e-01,  1.33369967e-01,  3.19847345e-01,  7.87126601e-01,\n",
       "        2.12798323e-02,  3.15663278e-01, -9.40856874e-01,  8.92532691e-02,\n",
       "       -2.00163364e-01,  2.57887435e-03, -2.66979247e-01,  1.34641856e-01,\n",
       "       -1.43061683e-01, -1.77313554e+00, -2.02802896e-01,  3.71907681e-01,\n",
       "       -4.35833782e-01,  3.52780730e-01, -2.95222729e-01, -5.63627370e-02,\n",
       "       -4.70291615e-01, -5.35521656e-04, -7.06654251e-01, -4.24276024e-01,\n",
       "       -1.68174878e-01, -5.38079977e-01,  8.32184017e-01,  1.85051993e-01,\n",
       "       -9.97864425e-01, -2.08904203e-02,  1.20036054e+00, -2.54078358e-01,\n",
       "       -3.00487787e-01, -1.70983922e+00, -3.63617510e-01, -5.18817842e-01,\n",
       "       -5.04112780e-01, -1.37100923e+00, -4.92772646e-02, -1.12661600e+00,\n",
       "       -9.06163827e-02, -1.06482565e+00, -1.31078079e-01,  6.31299078e-01,\n",
       "       -2.23319605e-01, -1.12126581e-01,  8.94684792e-01,  9.32839885e-02,\n",
       "        4.68274981e-01,  8.61880779e-02,  4.69051987e-01,  8.92324075e-02,\n",
       "       -7.17885718e-02,  2.89652556e-01,  4.80847687e-01,  5.72494924e-01,\n",
       "        6.64299071e-01,  5.63715816e-01, -8.32907438e-01,  5.80356061e-01,\n",
       "       -3.11083555e-01,  2.85650808e-02, -2.28444412e-01,  1.10528968e-01,\n",
       "        3.93765211e-01, -2.42293134e-01,  1.15545630e-01,  2.84748226e-01,\n",
       "       -6.15889072e-01,  6.22728169e-01,  3.72087508e-01, -6.50998890e-01,\n",
       "        8.20729360e-02,  1.75712839e-01,  4.81793694e-02,  1.56715348e-01,\n",
       "        2.15870198e-02, -9.65229571e-02, -6.99957788e-01, -1.35527039e+00,\n",
       "        3.47529799e-01, -2.97294289e-01, -1.55955896e-01, -1.60021350e-01,\n",
       "        9.54517543e-01,  1.50868523e+00,  1.17309964e+00,  4.93599504e-01,\n",
       "        4.20729816e-03, -1.15320051e+00,  1.68337095e+00,  7.59817883e-02,\n",
       "        8.96794498e-02,  1.52612984e-01, -4.23600703e-01, -3.85012716e-01,\n",
       "        3.37478034e-02, -1.39444679e-01, -4.51784849e-01,  2.42211998e-01,\n",
       "       -4.29743618e-01,  9.05548751e-01, -2.84604311e-01, -8.95989418e-01,\n",
       "        6.80693090e-01, -4.19695526e-01,  2.99868464e-01,  9.28250074e-01,\n",
       "       -1.07314980e+00, -7.77007520e-01, -4.89838839e-01, -1.82038859e-01,\n",
       "        1.21885455e+00,  6.35582507e-02, -2.62561649e-01, -1.44453673e-02,\n",
       "       -6.75449550e-01,  4.68101501e-01, -4.84302253e-01, -3.92824292e-01,\n",
       "       -2.83782929e-01,  3.14396381e-01, -7.06093535e-02,  4.51894253e-01,\n",
       "       -4.18904543e-01, -6.76894367e-01,  6.47271693e-01, -1.90666318e-01,\n",
       "       -3.78796488e-01,  1.61578178e-01,  3.79976362e-01,  2.15648934e-01,\n",
       "        4.20547687e-02,  1.10650338e-01,  3.06598574e-01, -8.32929552e-01,\n",
       "       -2.08331808e-01, -3.02570015e-01, -6.00664616e-01,  1.12300098e+00,\n",
       "        9.84938920e-01, -9.03995991e-01,  5.29441416e-01, -3.96000534e-01,\n",
       "       -3.45089048e-01, -6.61429986e-02,  7.14517176e-01, -7.39699125e-01,\n",
       "       -7.30326355e-01,  3.70933264e-01,  2.74603635e-01,  6.44927919e-01,\n",
       "        1.89661741e-01, -8.53778496e-02,  1.98288336e-02, -6.89852655e-01,\n",
       "        2.45079756e-01, -2.68820580e-02, -8.42266977e-01, -4.29056317e-01,\n",
       "       -4.79974657e-01, -8.92868280e-01, -6.46469951e-01, -9.21146095e-01,\n",
       "       -5.68616688e-01, -7.54851639e-01, -2.42569685e-01, -6.86985478e-02,\n",
       "        1.00815570e+00, -8.11493874e-01, -5.23243308e-01, -3.79343368e-02,\n",
       "       -2.45980382e-01, -8.53717804e-01,  6.92462981e-01, -1.07894123e+00,\n",
       "       -6.99564636e-01,  5.68380654e-01,  9.69862565e-02,  4.86816354e-02,\n",
       "        3.11708361e-01,  3.29665452e-01,  1.26708782e+00, -1.93879623e-02,\n",
       "        2.27838144e-01,  8.94738376e-01, -4.13890123e-01, -1.79743528e-01,\n",
       "        3.54330033e-01, -1.29147041e+00, -1.91056907e+00,  1.12326264e-01,\n",
       "        2.95964722e-02, -9.09740925e-01,  2.36741945e-01, -9.23922837e-01,\n",
       "        1.75593887e-02, -1.90784395e+00, -2.19062254e-01,  1.43048227e-01,\n",
       "        1.41172871e-01, -5.66207349e-01, -3.04393172e-01,  7.05052376e-01,\n",
       "        5.80701888e-01,  2.02125505e-01,  6.78305924e-01, -1.05028856e+00,\n",
       "        1.03084815e+00,  4.18599285e-02, -4.30996567e-01,  1.46235311e+00,\n",
       "        2.99096316e-01, -2.60711104e-01, -1.81007102e-01,  5.35233796e-01,\n",
       "       -5.89294195e-01, -4.89886671e-01,  3.40514570e-01, -7.83965290e-01,\n",
       "       -7.97415733e-01, -4.19367403e-01,  4.52343583e-01, -2.94344481e-02,\n",
       "        7.39334226e-02,  1.35421708e-01,  3.92970830e-01,  4.44844484e-01,\n",
       "        4.37842131e-01, -3.54757637e-01, -1.40364364e-01,  4.17959303e-01,\n",
       "       -6.84981167e-01, -1.09407294e+00,  1.71502435e+00,  4.79144119e-02,\n",
       "       -3.83669585e-01,  5.47239244e-01, -4.79916185e-01, -2.87438780e-02,\n",
       "       -4.78398889e-01,  1.29921988e-01,  3.28423113e-01,  2.17070460e-01,\n",
       "        1.08215237e+00, -1.07759607e+00,  1.36871433e+00,  3.21857005e-01,\n",
       "        3.96952182e-01, -2.97271371e-01,  1.38466120e+00,  5.59482813e-01,\n",
       "        3.34051937e-01, -1.38598129e-01,  3.59002501e-01, -3.03456455e-01,\n",
       "       -3.89966875e-01, -2.55194426e-01, -3.66720587e-01,  6.14098459e-02,\n",
       "        8.17803681e-01,  2.58272767e-01,  6.53615445e-02,  1.26325250e+00,\n",
       "       -6.24799252e-01, -7.56392002e-01, -3.47550035e-01, -3.95935141e-02,\n",
       "        5.34201205e-01,  6.02575302e-01,  2.55006999e-01, -8.63246381e-01,\n",
       "       -5.70206046e-01,  5.42300582e-01, -1.88454278e-02,  8.10433552e-03,\n",
       "        3.94989252e-02,  1.33882463e+00, -9.62390602e-02, -3.48149568e-01,\n",
       "        2.35275364e+00, -2.53741831e-01, -1.96066260e-01, -6.00174367e-02,\n",
       "       -5.55090845e-01,  5.21812201e-01,  4.48954105e-01,  6.45126641e-01,\n",
       "        1.08237112e+00, -1.36139959e-01, -8.68279755e-01, -2.09938216e+00,\n",
       "        4.38873887e-01, -4.50504869e-01,  8.44044030e-01,  2.06914306e-01,\n",
       "       -9.60002959e-01, -4.24814582e-01,  3.86197478e-01,  3.48250538e-01,\n",
       "       -1.00552045e-01, -1.41553748e+00,  1.07936166e-01, -2.95501679e-01,\n",
       "       -1.35952041e-01, -1.31705040e-02, -1.04939342e+00, -2.51357675e-01,\n",
       "       -3.19793254e-01, -3.98387402e-01, -1.60754144e-01, -1.32581961e+00,\n",
       "        2.32680485e-01,  4.71238643e-01, -4.92779016e-01, -1.68133691e-01,\n",
       "        3.15809816e-01,  1.19950640e+00,  4.62623864e-01, -7.15735614e-01,\n",
       "       -5.45950420e-02,  2.35938117e-01,  3.57043028e-01, -1.68077424e-01,\n",
       "        8.68163764e-01, -2.39971265e-01, -1.72341004e-01,  1.01978302e+00,\n",
       "        5.15614636e-02,  3.14597875e-01,  4.38339919e-01,  2.83585906e-01,\n",
       "       -2.82290131e-01,  4.27218527e-01,  1.09658027e+00,  6.14010274e-01,\n",
       "        3.31820190e-01, -1.07342613e+00, -7.43167773e-02, -6.17589317e-02,\n",
       "       -5.04446805e-01,  8.81942451e-01,  1.82312071e-01,  5.51344454e-01,\n",
       "       -6.80228174e-01, -7.05346644e-01, -5.23355424e-01, -1.52165443e-01,\n",
       "       -1.83689702e+00,  4.51715261e-01,  1.84020960e+00, -1.46394655e-01,\n",
       "        5.62479952e-03,  3.42113614e-01,  1.30399168e+00, -3.44076872e-01,\n",
       "        5.22829235e-01,  8.34844351e-01,  8.83449093e-02,  6.73201144e-01,\n",
       "        7.08012879e-02, -4.34527665e-01, -5.32163799e-01, -6.13049150e-01,\n",
       "        2.19287261e-01, -2.95784567e-02, -2.87620276e-01,  4.57448155e-01,\n",
       "       -1.56580889e+00,  9.08916056e-01, -1.31556988e+00,  5.61257489e-02,\n",
       "       -2.94070154e-01,  8.62340391e-01,  2.49409273e-01,  1.08843349e-01,\n",
       "       -6.50865734e-01,  2.01918364e-01, -3.45122904e-01, -2.01908782e-01,\n",
       "       -3.46207261e-01,  1.48506001e-01,  1.66768014e+00, -5.10724425e-01,\n",
       "        2.59384245e-01,  1.64006680e-01,  3.66170764e-01,  2.12821979e-02,\n",
       "        3.38958174e-01,  1.27978278e-02,  1.10964775e-01, -1.04007351e+00,\n",
       "       -7.86020141e-03, -5.36511362e-01, -1.03219819e+00,  7.55651621e-03,\n",
       "        6.67914391e-01,  6.21715724e-01, -3.09993681e-02,  2.86906928e-01,\n",
       "        7.09465146e-03,  6.14599168e-01, -3.48677188e-02,  1.81648290e+00,\n",
       "       -5.58621347e-01,  7.81517029e-01, -1.04849231e+00, -2.44210120e-02,\n",
       "       -5.51721334e-01, -1.27408341e-01,  6.03838742e-01, -5.26522756e-01,\n",
       "        3.69384319e-01,  3.89617294e-01, -1.52886018e-01, -4.05580431e-01,\n",
       "        1.13354862e-01, -4.76921886e-01, -5.30914545e-01, -1.18132508e+00,\n",
       "        1.05053866e+00,  7.38583863e-01,  5.83019294e-02, -3.01283240e-01,\n",
       "        1.34994876e+00,  4.16264772e-01,  2.95146435e-01, -3.97518158e-01,\n",
       "       -2.02312484e-01,  1.42450762e+00, -1.79662943e-01,  1.51735231e-01,\n",
       "       -1.23117983e+00, -5.48365831e-01,  9.43776906e-01,  3.74857098e-01,\n",
       "        1.16790104e+00,  9.74913418e-01,  1.22872281e+00, -5.71247637e-01,\n",
       "       -8.33528221e-01,  7.35995770e-01, -4.81781691e-01, -3.86249930e-01,\n",
       "        4.80327517e-01, -9.08146203e-01, -1.03859186e+00, -4.31935005e-02,\n",
       "        5.30717194e-01,  3.88632983e-01, -9.49421898e-02, -3.32265854e-01,\n",
       "        5.00766218e-01,  5.19558609e-01,  1.42431819e+00, -1.72893465e+00,\n",
       "       -4.24141556e-01, -7.81409085e-01,  4.30829763e-01, -3.46083164e-01,\n",
       "        9.38051268e-02,  1.10467531e-01,  4.16119337e-01,  6.33842945e-01,\n",
       "       -1.21301246e+00, -3.73626240e-02,  6.02462113e-01, -2.88334817e-01,\n",
       "        9.54408944e-02, -6.86134160e-01,  4.94211555e-01, -5.54704249e-01,\n",
       "        1.01493098e-01, -2.19885126e-01, -8.52661133e-02, -6.20338857e-01,\n",
       "       -2.22157001e-01, -5.03810465e-01,  1.69707775e-01,  4.15753365e-01,\n",
       "       -6.31753385e-01, -2.98796326e-01, -4.82366413e-01,  4.41187114e-01,\n",
       "       -1.16681433e+00, -3.41434091e-01, -9.81460810e-02, -4.45270687e-01,\n",
       "        2.61188895e-01,  5.86901426e-01,  4.50468928e-01,  5.95040143e-01,\n",
       "        4.95912433e-01,  7.17703402e-01, -1.76445916e-01,  3.63275677e-01,\n",
       "       -5.30765295e-01,  1.65898442e-01, -2.02823147e-01,  9.28595304e-01,\n",
       "       -6.02741539e-01,  8.57826710e-01,  1.03359319e-01,  4.39052582e-01,\n",
       "        2.71208256e-01,  5.48085868e-01,  7.17889443e-02, -5.34867465e-01,\n",
       "        1.98917449e-01, -4.20508385e-01,  6.55048043e-02,  3.93368512e-01,\n",
       "        7.74515197e-02,  1.03957272e+00,  1.55618265e-01, -2.32507721e-01,\n",
       "        3.53593141e-01,  7.72237599e-01,  1.16698883e-01,  1.06200933e-01,\n",
       "       -3.94962788e-01,  8.61491501e-01,  6.79607928e-01, -3.87793452e-01,\n",
       "       -5.06910622e-01,  6.38427079e-01,  8.44746828e-02, -1.73043907e-01,\n",
       "        2.64747620e-01, -9.75517929e-01, -1.51488250e-02,  5.71233213e-01,\n",
       "       -1.04915655e+00,  9.52275619e-02,  9.28223789e-01,  1.04686081e+00,\n",
       "        5.23156412e-02, -1.02252865e+00, -3.16402882e-01,  7.32142150e-01,\n",
       "        2.20643673e-02,  2.72157520e-01, -3.43543857e-01, -1.48855254e-01,\n",
       "       -2.94827968e-01, -2.47903824e-01,  1.28111947e+00, -7.03477621e-01,\n",
       "       -2.67690737e-02, -3.33093137e-01,  1.01967573e+00, -1.56312898e-01,\n",
       "        1.17146599e+00, -3.02029639e-01, -8.01269591e-01,  2.48609483e-01,\n",
       "       -6.08621895e-01, -5.03681488e-02,  1.32506645e+00, -8.11583459e-01,\n",
       "        1.69432342e-01,  3.97027999e-01,  5.80084503e-01, -4.50247675e-01,\n",
       "       -4.89535481e-01, -6.48772269e-02, -2.38564178e-01, -3.55335951e-01,\n",
       "       -6.76479995e-01, -4.51640218e-01, -3.26572448e-01,  4.03026551e-01,\n",
       "       -5.39518893e-02,  3.52194220e-01, -3.07532281e-01,  5.30265749e-01,\n",
       "       -3.89658451e-01,  2.00976372e-01,  5.47229707e-01,  8.92972052e-02,\n",
       "        6.28417909e-01, -2.98562616e-01, -1.38920471e-01, -3.78698200e-01,\n",
       "       -4.70401555e-01, -1.29853940e+00, -4.47013140e-01,  1.02903211e+00,\n",
       "       -2.57923961e-01, -8.25063363e-02, -1.13695860e-03,  9.11656246e-02,\n",
       "        2.50721663e-01,  9.48782206e-01,  6.09247863e-01,  1.08568418e+00,\n",
       "        1.67891942e-02, -5.01098275e-01,  6.82362244e-02,  6.63777292e-01,\n",
       "       -5.37160970e-02, -1.90355226e-01,  2.35127762e-01,  3.54826421e-01,\n",
       "        1.03939676e+00,  4.86383438e-01, -4.40754652e-01, -7.56267965e-01,\n",
       "        2.56853074e-01,  1.84598580e-01, -8.93624723e-01,  2.49010280e-01],\n",
       "      dtype=float32)"
      ]
     },
     "execution_count": 32,
     "metadata": {},
     "output_type": "execute_result"
    }
   ],
   "source": [
    "index.reconstruct(10784  )"
   ]
  }
 ],
 "metadata": {
  "interpreter": {
   "hash": "015cc5a99857e9fcd1ab0927880e4505b72089e0473c7b827a9368dc8509f23c"
  },
  "kernelspec": {
   "display_name": "Python 3.8.5 64-bit ('base': conda)",
   "name": "python3"
  },
  "language_info": {
   "codemirror_mode": {
    "name": "ipython",
    "version": 3
   },
   "file_extension": ".py",
   "mimetype": "text/x-python",
   "name": "python",
   "nbconvert_exporter": "python",
   "pygments_lexer": "ipython3",
   "version": "3.8.5"
  },
  "orig_nbformat": 4
 },
 "nbformat": 4,
 "nbformat_minor": 2
}
