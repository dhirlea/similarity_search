{
 "cells": [
  {
   "cell_type": "code",
   "execution_count": 1,
   "metadata": {},
   "outputs": [],
   "source": [
    "import requests\n",
    "import numpy as np\n",
    "from io import StringIO\n",
    "import pandas as pd\n",
    "from sentence_transformers import SentenceTransformer\n",
    "import faiss"
   ]
  },
  {
   "cell_type": "code",
   "execution_count": 2,
   "metadata": {},
   "outputs": [
    {
     "data": {
      "text/html": [
       "<div>\n",
       "<style scoped>\n",
       "    .dataframe tbody tr th:only-of-type {\n",
       "        vertical-align: middle;\n",
       "    }\n",
       "\n",
       "    .dataframe tbody tr th {\n",
       "        vertical-align: top;\n",
       "    }\n",
       "\n",
       "    .dataframe thead th {\n",
       "        text-align: right;\n",
       "    }\n",
       "</style>\n",
       "<table border=\"1\" class=\"dataframe\">\n",
       "  <thead>\n",
       "    <tr style=\"text-align: right;\">\n",
       "      <th></th>\n",
       "      <th>pair_ID</th>\n",
       "      <th>sentence_A</th>\n",
       "      <th>sentence_B</th>\n",
       "      <th>relatedness_score</th>\n",
       "      <th>entailment_judgment</th>\n",
       "    </tr>\n",
       "  </thead>\n",
       "  <tbody>\n",
       "    <tr>\n",
       "      <th>0</th>\n",
       "      <td>1</td>\n",
       "      <td>A group of kids is playing in a yard and an ol...</td>\n",
       "      <td>A group of boys in a yard is playing and a man...</td>\n",
       "      <td>4.5</td>\n",
       "      <td>NEUTRAL</td>\n",
       "    </tr>\n",
       "    <tr>\n",
       "      <th>1</th>\n",
       "      <td>2</td>\n",
       "      <td>A group of children is playing in the house an...</td>\n",
       "      <td>A group of kids is playing in a yard and an ol...</td>\n",
       "      <td>3.2</td>\n",
       "      <td>NEUTRAL</td>\n",
       "    </tr>\n",
       "    <tr>\n",
       "      <th>2</th>\n",
       "      <td>3</td>\n",
       "      <td>The young boys are playing outdoors and the ma...</td>\n",
       "      <td>The kids are playing outdoors near a man with ...</td>\n",
       "      <td>4.7</td>\n",
       "      <td>ENTAILMENT</td>\n",
       "    </tr>\n",
       "    <tr>\n",
       "      <th>3</th>\n",
       "      <td>5</td>\n",
       "      <td>The kids are playing outdoors near a man with ...</td>\n",
       "      <td>A group of kids is playing in a yard and an ol...</td>\n",
       "      <td>3.4</td>\n",
       "      <td>NEUTRAL</td>\n",
       "    </tr>\n",
       "    <tr>\n",
       "      <th>4</th>\n",
       "      <td>9</td>\n",
       "      <td>The young boys are playing outdoors and the ma...</td>\n",
       "      <td>A group of kids is playing in a yard and an ol...</td>\n",
       "      <td>3.7</td>\n",
       "      <td>NEUTRAL</td>\n",
       "    </tr>\n",
       "  </tbody>\n",
       "</table>\n",
       "</div>"
      ],
      "text/plain": [
       "   pair_ID                                         sentence_A  \\\n",
       "0        1  A group of kids is playing in a yard and an ol...   \n",
       "1        2  A group of children is playing in the house an...   \n",
       "2        3  The young boys are playing outdoors and the ma...   \n",
       "3        5  The kids are playing outdoors near a man with ...   \n",
       "4        9  The young boys are playing outdoors and the ma...   \n",
       "\n",
       "                                          sentence_B  relatedness_score  \\\n",
       "0  A group of boys in a yard is playing and a man...                4.5   \n",
       "1  A group of kids is playing in a yard and an ol...                3.2   \n",
       "2  The kids are playing outdoors near a man with ...                4.7   \n",
       "3  A group of kids is playing in a yard and an ol...                3.4   \n",
       "4  A group of kids is playing in a yard and an ol...                3.7   \n",
       "\n",
       "  entailment_judgment  \n",
       "0             NEUTRAL  \n",
       "1             NEUTRAL  \n",
       "2          ENTAILMENT  \n",
       "3             NEUTRAL  \n",
       "4             NEUTRAL  "
      ]
     },
     "execution_count": 2,
     "metadata": {},
     "output_type": "execute_result"
    }
   ],
   "source": [
    "\n",
    "res = requests.get('https://raw.githubusercontent.com/brmson/dataset-sts/master/data/sts/sick2014/SICK_train.txt')\n",
    "# create dataframe\n",
    "data = pd.read_csv(StringIO(res.text), sep='\\t')\n",
    "data.head()"
   ]
  },
  {
   "cell_type": "code",
   "execution_count": 3,
   "metadata": {},
   "outputs": [
    {
     "data": {
      "text/plain": [
       "['A group of kids is playing in a yard and an old man is standing in the background',\n",
       " 'A group of children is playing in the house and there is no man standing in the background',\n",
       " 'The young boys are playing outdoors and the man is smiling nearby',\n",
       " 'The kids are playing outdoors near a man with a smile',\n",
       " 'The young boys are playing outdoors and the man is smiling nearby']"
      ]
     },
     "execution_count": 3,
     "metadata": {},
     "output_type": "execute_result"
    }
   ],
   "source": [
    "\n",
    "# we take all samples from both sentence A and B\n",
    "sentences = data['sentence_A'].tolist()\n",
    "sentences[:5]"
   ]
  },
  {
   "cell_type": "code",
   "execution_count": 4,
   "metadata": {},
   "outputs": [
    {
     "data": {
      "text/plain": [
       "4802"
      ]
     },
     "execution_count": 4,
     "metadata": {},
     "output_type": "execute_result"
    }
   ],
   "source": [
    "\n",
    "# we take all samples from both sentence A and B\n",
    "sentences = data['sentence_A'].tolist()\n",
    "sentence_b = data['sentence_B'].tolist()\n",
    "sentences.extend(sentence_b)  # merge them\n",
    "len(set(sentences))  # together we have ~4.5K unique sentences"
   ]
  },
  {
   "cell_type": "code",
   "execution_count": 5,
   "metadata": {},
   "outputs": [],
   "source": [
    "urls = [\n",
    "    'https://raw.githubusercontent.com/brmson/dataset-sts/master/data/sts/semeval-sts/2012/MSRpar.train.tsv',\n",
    "    'https://raw.githubusercontent.com/brmson/dataset-sts/master/data/sts/semeval-sts/2012/MSRpar.test.tsv',\n",
    "    'https://raw.githubusercontent.com/brmson/dataset-sts/master/data/sts/semeval-sts/2012/OnWN.test.tsv',\n",
    "    'https://raw.githubusercontent.com/brmson/dataset-sts/master/data/sts/semeval-sts/2013/OnWN.test.tsv',\n",
    "    'https://raw.githubusercontent.com/brmson/dataset-sts/master/data/sts/semeval-sts/2014/OnWN.test.tsv',\n",
    "    'https://raw.githubusercontent.com/brmson/dataset-sts/master/data/sts/semeval-sts/2014/images.test.tsv',\n",
    "    'https://raw.githubusercontent.com/brmson/dataset-sts/master/data/sts/semeval-sts/2015/images.test.tsv'\n",
    "]"
   ]
  },
  {
   "cell_type": "code",
   "execution_count": 6,
   "metadata": {},
   "outputs": [
    {
     "name": "stderr",
     "output_type": "stream",
     "text": [
      "b'Skipping line 191: expected 3 fields, saw 4\\nSkipping line 206: expected 3 fields, saw 4\\nSkipping line 295: expected 3 fields, saw 4\\nSkipping line 695: expected 3 fields, saw 4\\nSkipping line 699: expected 3 fields, saw 4\\n'\n",
      "b'Skipping line 104: expected 3 fields, saw 4\\nSkipping line 181: expected 3 fields, saw 4\\nSkipping line 317: expected 3 fields, saw 4\\nSkipping line 412: expected 3 fields, saw 5\\nSkipping line 508: expected 3 fields, saw 4\\n'\n"
     ]
    }
   ],
   "source": [
    "# each of these dataset have the same structure, so we loop through each creating our sentences data\n",
    "for url in urls:\n",
    "    res = requests.get(url)\n",
    "    # extract to dataframe\n",
    "    data = pd.read_csv(StringIO(res.text), sep='\\t', header=None, error_bad_lines=False)\n",
    "    # add to columns 1 and 2 to sentences list\n",
    "    sentences.extend(data[1].tolist())\n",
    "    sentences.extend(data[2].tolist())"
   ]
  },
  {
   "cell_type": "code",
   "execution_count": 7,
   "metadata": {},
   "outputs": [
    {
     "data": {
      "text/plain": [
       "14505"
      ]
     },
     "execution_count": 7,
     "metadata": {},
     "output_type": "execute_result"
    }
   ],
   "source": [
    "len(set(sentences))"
   ]
  },
  {
   "cell_type": "code",
   "execution_count": 8,
   "metadata": {},
   "outputs": [],
   "source": [
    "\n",
    "# remove duplicates and NaN\n",
    "sentences = [word for word in list(set(sentences)) if type(word) is str]"
   ]
  },
  {
   "cell_type": "code",
   "execution_count": 9,
   "metadata": {},
   "outputs": [
    {
     "data": {
      "text/plain": [
       "(14504, 768)"
      ]
     },
     "execution_count": 9,
     "metadata": {},
     "output_type": "execute_result"
    }
   ],
   "source": [
    "\n",
    "# initialize sentence transformer model\n",
    "model = SentenceTransformer('bert-base-nli-mean-tokens')\n",
    "# create sentence embeddings\n",
    "sentence_embeddings = model.encode(sentences)\n",
    "sentence_embeddings.shape"
   ]
  },
  {
   "cell_type": "code",
   "execution_count": 10,
   "metadata": {},
   "outputs": [
    {
     "data": {
      "text/plain": [
       "768"
      ]
     },
     "execution_count": 10,
     "metadata": {},
     "output_type": "execute_result"
    }
   ],
   "source": [
    "d = sentence_embeddings.shape[1]\n",
    "d"
   ]
  },
  {
   "cell_type": "code",
   "execution_count": 11,
   "metadata": {},
   "outputs": [],
   "source": [
    "# IndexFlatL2 measures the L2 (or Euclidean) distance between all given points between our query vector, and the vectors loaded into the index\n",
    "index = faiss.IndexFlatL2(d)"
   ]
  },
  {
   "cell_type": "code",
   "execution_count": 12,
   "metadata": {},
   "outputs": [
    {
     "data": {
      "text/plain": [
       "True"
      ]
     },
     "execution_count": 12,
     "metadata": {},
     "output_type": "execute_result"
    }
   ],
   "source": [
    "\n",
    "index.is_trained"
   ]
  },
  {
   "cell_type": "code",
   "execution_count": 13,
   "metadata": {},
   "outputs": [
    {
     "data": {
      "text/plain": [
       "14504"
      ]
     },
     "execution_count": 13,
     "metadata": {},
     "output_type": "execute_result"
    }
   ],
   "source": [
    "index.add(sentence_embeddings)\n",
    "index.ntotal"
   ]
  },
  {
   "cell_type": "code",
   "execution_count": 14,
   "metadata": {},
   "outputs": [],
   "source": [
    "# Then search given a query xq and number of nearest neigbors to return k.\n",
    "\n",
    "k = 4\n",
    "xq = model.encode([\"Someone sprints with a football\"])"
   ]
  },
  {
   "cell_type": "code",
   "execution_count": 15,
   "metadata": {},
   "outputs": [
    {
     "name": "stdout",
     "output_type": "stream",
     "text": [
      "[[ 2580  8174 11931  6649]]\n",
      "Wall time: 18 ms\n"
     ]
    }
   ],
   "source": [
    "%%time\n",
    "D, I = index.search(xq, k)  # search\n",
    "print(I)"
   ]
  },
  {
   "cell_type": "code",
   "execution_count": 16,
   "metadata": {},
   "outputs": [
    {
     "name": "stdout",
     "output_type": "stream",
     "text": [
      "A group of football players is running in the field\n",
      "A group of people playing football is running in the field\n",
      "Two groups of people are playing football\n",
      "A person playing football is running past an official carrying a football\n"
     ]
    }
   ],
   "source": [
    "for i in I[0]:\n",
    "    print(sentences[i])"
   ]
  },
  {
   "cell_type": "code",
   "execution_count": 17,
   "metadata": {},
   "outputs": [],
   "source": [
    "# Now, if we’d rather extract the numerical vectors from Faiss, we can do that too.\n",
    "# we have 4 vectors to return (k) - so we initialize a zero array to hold them\n",
    "vecs = np.zeros((k, d))\n",
    "# then iterate through each ID from I and add the reconstructed vector to our zero-array\n",
    "for i, val in enumerate(I[0].tolist()):\n",
    "    vecs[i, :] = index.reconstruct(val)"
   ]
  },
  {
   "cell_type": "code",
   "execution_count": 18,
   "metadata": {},
   "outputs": [
    {
     "data": {
      "text/plain": [
       "(4, 768)"
      ]
     },
     "execution_count": 18,
     "metadata": {},
     "output_type": "execute_result"
    }
   ],
   "source": [
    "vecs.shape"
   ]
  },
  {
   "cell_type": "code",
   "execution_count": 38,
   "metadata": {},
   "outputs": [],
   "source": [
    "# So, we are reducing the scope of our search, producing an approximate answer, rather than exact (as produced through exhaustive search) using IVF flat. \n",
    "# This partitions the search space into n Voronoi cells and searches the nprobe cells\n",
    "nlist = 50  # how many cells\n",
    "quantizer = faiss.IndexFlatL2(d)\n",
    "index = faiss.IndexIVFFlat(quantizer, d, nlist)"
   ]
  },
  {
   "cell_type": "code",
   "execution_count": 39,
   "metadata": {},
   "outputs": [
    {
     "data": {
      "text/plain": [
       "False"
      ]
     },
     "execution_count": 39,
     "metadata": {},
     "output_type": "execute_result"
    }
   ],
   "source": [
    "index.is_trained"
   ]
  },
  {
   "cell_type": "code",
   "execution_count": 40,
   "metadata": {},
   "outputs": [
    {
     "data": {
      "text/plain": [
       "True"
      ]
     },
     "execution_count": 40,
     "metadata": {},
     "output_type": "execute_result"
    }
   ],
   "source": [
    "index.train(sentence_embeddings)\n",
    "index.is_trained  # check if index is now trained"
   ]
  },
  {
   "cell_type": "code",
   "execution_count": 41,
   "metadata": {},
   "outputs": [],
   "source": [
    "index.add(sentence_embeddings)\n",
    "index.ntotal  # number of embeddings indexed\n",
    "index.nprobe = 1"
   ]
  },
  {
   "cell_type": "code",
   "execution_count": 42,
   "metadata": {},
   "outputs": [
    {
     "name": "stdout",
     "output_type": "stream",
     "text": [
      "[[ 2580  8174 11931  6649]]\n",
      "Wall time: 19 ms\n"
     ]
    }
   ],
   "source": [
    "%%time\n",
    "D, I = index.search(xq, k)  # search\n",
    "print(I)"
   ]
  },
  {
   "cell_type": "code",
   "execution_count": 43,
   "metadata": {},
   "outputs": [
    {
     "name": "stdout",
     "output_type": "stream",
     "text": [
      "A group of football players is running in the field\n",
      "A group of people playing football is running in the field\n",
      "Two groups of people are playing football\n",
      "A person playing football is running past an official carrying a football\n"
     ]
    }
   ],
   "source": [
    "for i in I[0]:\n",
    "    print(sentences[i])"
   ]
  },
  {
   "cell_type": "code",
   "execution_count": 44,
   "metadata": {},
   "outputs": [],
   "source": [
    "\n",
    "index.make_direct_map()"
   ]
  },
  {
   "cell_type": "code",
   "execution_count": 45,
   "metadata": {},
   "outputs": [
    {
     "data": {
      "text/plain": [
       "array([ 0.22949542,  0.21166392, -0.10311846, -0.08761475, -0.7623109 ,\n",
       "        0.01426321, -0.14125912,  0.05316121, -1.2854432 , -0.3934348 ,\n",
       "       -1.1384095 ,  0.35143626,  0.0677641 ,  0.58293575,  1.2239507 ,\n",
       "        0.04434835, -0.19015439, -1.2370024 ,  0.30799544, -0.04922725,\n",
       "       -0.94415843, -0.46993154, -0.7439881 , -0.47364652,  0.53972524,\n",
       "        0.30820456,  0.44206727,  0.42482737, -1.0584823 ,  1.0223888 ,\n",
       "        0.30585548,  0.23979142,  0.44111764,  0.3964322 , -1.0802299 ,\n",
       "       -0.8000373 ,  0.55200297, -0.69327915,  0.38068053,  0.2212789 ,\n",
       "       -0.4883636 ,  0.3437855 , -0.9208072 ,  0.08734529, -0.7323824 ,\n",
       "       -0.807738  , -0.97757214,  0.26438403, -1.0034046 , -0.12847072,\n",
       "        0.3787472 ,  1.1222502 , -1.7026889 , -0.5364899 , -0.7851961 ,\n",
       "        0.6135695 ,  0.7391417 , -0.7311539 , -0.45036718,  0.31849584,\n",
       "       -0.4630785 , -0.28904024,  0.14222987, -0.11835919, -0.9614582 ,\n",
       "       -0.3604935 , -0.03248384,  0.08153806, -0.8151982 , -0.8800495 ,\n",
       "       -0.151976  , -0.75040096, -0.65406334, -0.20203704,  0.2760453 ,\n",
       "       -1.5799383 ,  0.70451516,  0.50699747,  0.50247467,  0.09393717,\n",
       "        0.09059767,  0.6011259 ,  0.28034896,  0.85934424,  0.09080103,\n",
       "       -0.30049363, -0.15919752,  0.23561114,  0.2385709 , -0.1397401 ,\n",
       "        0.6764982 ,  0.5193837 , -0.34935704, -0.8799474 ,  0.44345775,\n",
       "        0.24912387, -0.16417207, -0.13274224,  0.16788967,  0.01331505,\n",
       "       -1.0406936 , -0.07043961, -0.5253928 ,  0.40618414,  0.03644763,\n",
       "       -0.40247855, -0.4299342 ,  0.1461144 , -0.50465465,  0.24008472,\n",
       "       -1.010879  , -0.20786667,  0.6716912 , -0.77855855, -0.8722728 ,\n",
       "        0.4654282 ,  0.7943863 ,  0.5315572 ,  0.06878613,  0.9316934 ,\n",
       "       -0.5311767 ,  0.14008567,  0.06242499, -0.30664283, -0.64391196,\n",
       "       -0.06598801,  1.1038522 ,  0.16968687, -1.0496335 , -0.24452384,\n",
       "        0.05581377,  0.257435  , -0.77643067, -0.20654011,  0.05531453,\n",
       "       -0.02946848,  0.4276506 , -0.06338179, -0.31321895, -0.3568856 ,\n",
       "       -0.01417036,  0.23849797,  0.1307332 ,  0.25389808, -0.49098784,\n",
       "       -1.1692089 ,  1.0233365 ,  0.80830574, -0.19741508,  0.3860716 ,\n",
       "       -0.2389249 ,  0.21932745, -0.6087839 ,  1.6788497 , -0.8572009 ,\n",
       "        1.7813388 ,  1.3055449 , -0.11367932,  0.79408103,  0.71165127,\n",
       "       -0.1168928 ,  0.48594296, -0.7334702 , -0.30546394, -0.25193107,\n",
       "        0.01814619, -0.10361798, -0.22486247, -0.6228536 , -1.3825631 ,\n",
       "        0.52337605,  0.36299512, -0.0597197 ,  0.86961067, -0.4016875 ,\n",
       "       -0.36308226,  0.0290044 ,  0.26447746, -0.23333761, -0.24331434,\n",
       "       -0.31988966, -0.46698052,  0.53060704,  0.2603676 , -0.87145966,\n",
       "       -0.4136807 ,  1.2949669 , -0.31574363, -0.01793361, -1.3882163 ,\n",
       "        0.15193501, -0.548778  , -0.6706014 , -1.2079953 ,  0.1543588 ,\n",
       "       -0.9400394 , -0.43607488, -1.0133528 ,  0.36512578,  0.43840358,\n",
       "       -0.44012165, -0.5638421 ,  0.5445742 ,  0.32651088,  0.2901473 ,\n",
       "        0.72939515,  0.5444284 ,  0.24762805, -0.45922723, -0.05065723,\n",
       "        0.55016935,  0.8614792 ,  0.49217394,  0.66605747, -0.33923864,\n",
       "        0.64327645, -0.14690828, -0.09824032,  0.11854392,  0.43477467,\n",
       "        0.16496599, -0.318772  ,  0.29343027,  0.662276  , -0.89327455,\n",
       "        0.9637526 , -0.16227072, -0.23563403,  0.16811568,  0.29240587,\n",
       "        0.39281988,  0.16332632, -0.079933  ,  0.05310319, -0.86521477,\n",
       "       -1.1694207 , -0.17570959, -0.40951583,  0.04021171, -0.17137657,\n",
       "        0.973757  ,  1.7399198 ,  0.82947457,  0.33460045, -0.18961893,\n",
       "       -1.1629755 ,  1.5728861 ,  0.33630595, -0.33191687,  0.7119205 ,\n",
       "       -0.8296989 , -0.70247513, -0.18556686,  0.06026077, -0.14186813,\n",
       "        0.38102156, -0.24673669,  1.205109  , -0.3695753 , -1.3588995 ,\n",
       "        0.46048415, -0.5159747 ,  0.16381805,  0.69963145, -1.0273172 ,\n",
       "       -0.7868895 , -0.8119741 ,  0.40531313,  0.55332714,  0.46933305,\n",
       "       -0.18556124, -0.05092406, -1.030685  ,  0.35293588, -0.4740751 ,\n",
       "       -0.09953716,  0.3114641 ,  0.42818832, -0.63758343,  0.2919597 ,\n",
       "       -0.5998107 , -0.7649958 ,  0.20742029,  0.00453942, -0.39756343,\n",
       "       -0.31928718,  0.5760658 ,  0.17721915,  0.13159253, -0.1901271 ,\n",
       "        0.2916141 , -0.8806135 , -0.65260184, -0.4268993 , -0.04277093,\n",
       "        1.4578251 ,  0.35546345, -0.3240463 ,  0.3419539 , -0.06053694,\n",
       "       -0.16629781,  0.22342202,  0.16774172, -0.57523215, -0.931095  ,\n",
       "        0.52329147,  0.10273439,  0.6814429 , -0.283855  , -0.154992  ,\n",
       "        0.27695498, -0.8193441 ,  0.49283135,  0.2350089 , -0.77243537,\n",
       "       -0.5960758 , -0.62697965, -0.67815167, -0.59703517, -0.6943347 ,\n",
       "       -0.34378698, -0.3404312 , -0.38916746,  0.09865012,  0.6994366 ,\n",
       "       -1.1938288 , -0.51850456,  0.17406362, -0.11837263, -0.86202705,\n",
       "        0.90186405, -1.4748064 , -0.8179147 ,  0.87570643,  0.23573674,\n",
       "        0.283131  ,  0.4694925 , -0.05088125,  1.6696076 ,  0.28744408,\n",
       "        0.8064405 ,  0.6526263 , -0.15929835,  0.20038244,  0.67069054,\n",
       "       -1.4676406 , -1.68187   ,  0.37243402, -0.04521978, -0.6087917 ,\n",
       "        0.5579797 , -1.1817468 ,  0.03353839, -1.2281013 , -0.32325017,\n",
       "       -0.6804738 , -0.13160694, -0.24327074, -0.3922652 ,  0.6796171 ,\n",
       "       -0.02365326,  0.9226725 ,  0.57590395, -1.024833  ,  1.2928014 ,\n",
       "        0.16443577, -0.2933223 ,  1.211721  ,  0.3907256 , -0.12134678,\n",
       "       -0.2390995 ,  0.49639925, -0.3492999 , -0.7000784 , -0.39607278,\n",
       "       -0.33995393, -0.6464729 , -0.32686853,  0.7597032 , -0.20777993,\n",
       "        0.26958182,  0.08279182,  0.33829486, -0.08639281, -0.05100387,\n",
       "       -0.22719747, -0.08846493,  0.75175107, -0.5258151 , -0.598338  ,\n",
       "        1.5793164 , -0.11057129, -0.190152  ,  0.3914382 , -0.0518674 ,\n",
       "       -0.16710216, -0.01067718,  0.27358472,  0.10037881, -0.22457168,\n",
       "        0.7107361 , -0.55004996,  1.3192873 ,  0.4394401 ,  0.44641632,\n",
       "       -0.2656306 ,  1.743409  ,  0.17214088,  0.29585963, -1.0522923 ,\n",
       "        0.12309204, -0.35847488, -0.6917302 , -0.09818996, -0.45521054,\n",
       "       -0.08490786,  0.6013    ,  0.13096991,  0.27704307,  0.90025085,\n",
       "       -0.5725636 , -0.11928545, -0.19571717, -0.25935537,  0.36938345,\n",
       "        0.61345315,  0.14492069, -1.5797151 , -0.6014488 ,  0.7025514 ,\n",
       "       -0.19561782, -0.20753877, -0.10956892,  1.3499508 , -0.31324178,\n",
       "       -0.7261262 ,  1.8379484 , -0.19513565,  0.20453143,  0.19332652,\n",
       "       -0.3139781 ,  1.0945882 ,  0.24125682,  0.7498806 ,  0.57898784,\n",
       "       -0.05188944, -0.17982692, -1.9252188 ,  0.4824517 , -0.5825304 ,\n",
       "        0.82446873,  0.3970727 , -1.082394  , -0.5300805 , -0.08017337,\n",
       "       -0.05128925, -0.33706123, -1.4937212 , -0.27806222, -0.7411984 ,\n",
       "       -0.24086414,  0.35772327, -0.80731094, -0.4720548 , -0.3111644 ,\n",
       "       -0.36405215, -0.6398861 , -1.2458704 ,  0.34448326,  0.5468722 ,\n",
       "       -0.49437624, -0.17533427,  0.50587875,  0.64421   ,  0.55489236,\n",
       "       -1.0512799 , -0.31006226,  0.05884376,  0.06220253, -0.47669628,\n",
       "        0.55946475,  0.03661162, -0.09466384,  0.6761563 , -0.5113534 ,\n",
       "        0.42536074,  0.26900992,  0.25117877, -0.42208517,  0.29555708,\n",
       "        0.60907257,  0.53130686, -0.27194443, -0.711201  , -0.21429592,\n",
       "       -0.06290659, -0.5706854 ,  0.7697325 ,  0.538031  ,  0.39236677,\n",
       "       -0.30704978, -0.32331526, -0.7536663 ,  0.10211257, -1.9831145 ,\n",
       "        0.11196107,  2.3224304 , -0.39345938, -0.12403353,  0.21866812,\n",
       "        1.4283214 , -0.74507713,  0.6078542 ,  0.9001687 ,  0.20970531,\n",
       "        0.28135827, -0.10845014, -0.08017559, -0.37184635, -1.0893198 ,\n",
       "        0.5319168 , -0.04187233, -0.4061371 , -0.16520847, -1.1062578 ,\n",
       "        0.48024634, -1.0041236 , -0.16278903, -0.5948436 , -0.0182157 ,\n",
       "       -0.13176394,  0.13560206, -0.5928966 ,  0.69781375, -0.6796028 ,\n",
       "       -0.4583093 ,  0.4455232 ,  0.27881277,  1.7350997 , -0.76249534,\n",
       "        0.1002106 ,  0.16304575,  0.8557332 ,  0.0063821 , -0.00285881,\n",
       "       -0.14796533,  0.40292877, -0.8608438 , -0.13277942, -0.6020982 ,\n",
       "       -0.34803492, -0.14455695,  0.23787059,  0.51997375,  0.31382912,\n",
       "        0.05455117,  0.37551987,  0.42042202, -0.28970724,  1.6886716 ,\n",
       "       -1.0451491 ,  1.0921416 , -0.6941054 ,  0.27422997, -0.40335277,\n",
       "       -0.14126514,  1.2030803 , -0.38964736,  0.18382622,  0.11156694,\n",
       "       -0.42064634,  0.06372894,  0.4406033 , -0.37911823, -0.21283375,\n",
       "       -0.74136615,  0.9413678 ,  0.5727046 , -0.41547582, -0.56981516,\n",
       "        1.1556301 ,  0.4888844 ,  0.23776396, -0.8358228 ,  0.07117906,\n",
       "        1.438804  , -0.2261435 ,  0.39376011, -1.2737374 , -0.22442643,\n",
       "        1.031675  ,  0.3730562 ,  0.8162639 ,  0.7808302 ,  1.311178  ,\n",
       "       -0.41997916, -0.8651648 ,  0.62443554, -0.38183329, -0.65859723,\n",
       "        0.19879664, -1.1551094 , -0.98085785,  0.12781459,  0.44536215,\n",
       "        0.34788907,  0.3629417 , -0.30447516, -0.23658803,  0.62203145,\n",
       "        1.4010636 , -1.5377517 , -0.5796159 , -0.9002906 ,  0.31202304,\n",
       "       -0.6698242 , -0.05135125,  0.5007851 , -0.31505638,  0.33765432,\n",
       "       -1.3165365 ,  0.1617248 ,  0.68618435, -0.08523668,  0.41329357,\n",
       "       -0.6081498 ,  0.5193088 , -0.45806947,  0.14575908, -0.12739633,\n",
       "        0.17423862, -0.63411075, -0.19837014, -0.5927477 ,  0.3095283 ,\n",
       "        0.6729288 , -0.09908681, -0.24366225, -0.3627642 , -0.08532704,\n",
       "       -0.55811626,  0.1103153 , -0.03136794, -0.55376256,  0.6781814 ,\n",
       "        0.6244534 ,  0.02863477,  0.892699  ,  0.16624431,  0.8339942 ,\n",
       "       -0.1791625 , -0.11916694, -0.7805702 ,  0.09175844,  0.19110876,\n",
       "        0.6412432 , -0.29096428,  1.1159313 , -0.00993675,  0.61585754,\n",
       "        0.43620932,  0.5735813 ,  0.51945   , -0.18145081,  0.14004962,\n",
       "       -0.5461747 ,  0.07931161,  0.41837552,  0.13765852,  1.269259  ,\n",
       "        0.32723773, -0.31422728,  0.23662141,  0.6168584 , -0.15295069,\n",
       "       -0.2983624 , -0.42389816,  1.2795284 ,  0.70573497, -0.11475697,\n",
       "       -0.38122237,  0.19475827, -0.16736796,  0.05546914, -0.0376952 ,\n",
       "       -0.3179807 ,  0.15759796,  0.26458678, -0.47627252,  0.11039641,\n",
       "        0.7214868 ,  0.72373605, -0.66103566, -0.7704325 , -0.10580012,\n",
       "        0.6196305 ,  0.3374497 ,  0.21641165, -0.53984886, -0.6982465 ,\n",
       "       -0.776682  , -0.1407124 ,  0.7568459 , -1.0118612 ,  0.3772068 ,\n",
       "       -0.03524465,  0.9288082 ,  0.15157244,  0.94619954, -0.13597907,\n",
       "       -0.7882011 , -0.09127341, -0.93327546, -0.29474175,  1.1972957 ,\n",
       "       -0.40791196,  0.19210267, -0.13858443,  0.24542753, -0.44048548,\n",
       "       -0.42724428, -0.06297293, -0.77687407, -0.67300606, -0.5068644 ,\n",
       "       -0.73115116, -0.23051469,  0.7791606 , -0.31390914, -0.13611452,\n",
       "       -0.77131796,  0.6833192 , -0.5164363 ,  0.4776131 ,  0.916011  ,\n",
       "        0.3988027 ,  0.34399396, -0.29274455, -0.03820279, -0.2629825 ,\n",
       "        0.02599405, -1.7092842 , -0.6222861 ,  0.4889166 , -0.5038317 ,\n",
       "        0.19856583, -0.24136597,  0.16633147,  0.44168895,  0.8143868 ,\n",
       "        0.649474  ,  0.70145446,  0.37066957, -0.7758147 , -0.23233216,\n",
       "        0.1725415 ,  0.2825595 , -0.32202384,  0.30338943,  0.3996343 ,\n",
       "        1.124928  ,  0.15380058, -0.45166287, -0.23955673,  0.555922  ,\n",
       "        0.5247163 , -0.5153683 ,  0.4477058 ], dtype=float32)"
      ]
     },
     "execution_count": 45,
     "metadata": {},
     "output_type": "execute_result"
    }
   ],
   "source": [
    "index.reconstruct(11931)"
   ]
  },
  {
   "cell_type": "code",
   "execution_count": 46,
   "metadata": {},
   "outputs": [],
   "source": [
    "# Product Quantization (PQ) we can view it as an additional approximation step with a similar outcome to our use of IVF. \n",
    "# Where IVF allowed us to approximate by reducing the scope of our search, PQ approximates the distance/similarity calculation instead.\n",
    "m = 8  # number of centroid IDs in final compressed vectors\n",
    "bits = 8 # number of bits in each centroid\n",
    "\n",
    "quantizer = faiss.IndexFlatL2(d)  # we keep the same L2 distance flat index\n",
    "index = faiss.IndexIVFPQ(quantizer, d, nlist, m, bits)"
   ]
  },
  {
   "cell_type": "code",
   "execution_count": 48,
   "metadata": {},
   "outputs": [
    {
     "data": {
      "text/plain": [
       "False"
      ]
     },
     "execution_count": 48,
     "metadata": {},
     "output_type": "execute_result"
    }
   ],
   "source": [
    "index.is_trained"
   ]
  },
  {
   "cell_type": "code",
   "execution_count": 49,
   "metadata": {},
   "outputs": [],
   "source": [
    "index.train(sentence_embeddings)"
   ]
  },
  {
   "cell_type": "code",
   "execution_count": 50,
   "metadata": {},
   "outputs": [],
   "source": [
    "index.add(sentence_embeddings)"
   ]
  },
  {
   "cell_type": "code",
   "execution_count": 51,
   "metadata": {},
   "outputs": [],
   "source": [
    "index.nprobe = 10  # align to previous IndexIVFFlat nprobe value"
   ]
  },
  {
   "cell_type": "code",
   "execution_count": 52,
   "metadata": {},
   "outputs": [
    {
     "name": "stdout",
     "output_type": "stream",
     "text": [
      "[[ 598 1477 2080  421]]\n",
      "Wall time: 20 ms\n"
     ]
    }
   ],
   "source": [
    "%%time\n",
    "D, I = index.search(xq, k)\n",
    "print(I)"
   ]
  }
 ],
 "metadata": {
  "interpreter": {
   "hash": "015cc5a99857e9fcd1ab0927880e4505b72089e0473c7b827a9368dc8509f23c"
  },
  "kernelspec": {
   "display_name": "Python 3.8.5 64-bit ('base': conda)",
   "name": "python3"
  },
  "language_info": {
   "codemirror_mode": {
    "name": "ipython",
    "version": 3
   },
   "file_extension": ".py",
   "mimetype": "text/x-python",
   "name": "python",
   "nbconvert_exporter": "python",
   "pygments_lexer": "ipython3",
   "version": "3.8.5"
  },
  "orig_nbformat": 4
 },
 "nbformat": 4,
 "nbformat_minor": 2
}
